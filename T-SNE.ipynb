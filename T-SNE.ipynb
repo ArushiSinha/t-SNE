{
 "cells": [
  {
   "cell_type": "code",
   "execution_count": 1,
   "metadata": {},
   "outputs": [],
   "source": [
    "import numpy as np\n",
    "import pandas as pd\n",
    "import matplotlib.pyplot as plt\n",
    "from matplotlib.offsetbox import OffsetImage, AnnotationBbox\n",
    "from sklearn.manifold import TSNE\n",
    "import zipfile\n",
    "import time"
   ]
  },
  {
   "cell_type": "markdown",
   "metadata": {},
   "source": [
    "Numpy bitmaps - 28x28 grayscale bitmaps provided by quick draw can be loaded using np.load().\n",
    "161666 images are avaialble under the face category.\n",
    "Using a subset of just 400 images for more clear visualisation "
   ]
  },
  {
   "cell_type": "code",
   "execution_count": 2,
   "metadata": {},
   "outputs": [],
   "source": [
    "zip_ref = zipfile.ZipFile('smiley face.npy.zip', 'r')\n",
    "zip_ref.extractall()\n",
    "zip_ref.close()\n"
   ]
  },
  {
   "cell_type": "code",
   "execution_count": 4,
   "metadata": {},
   "outputs": [],
   "source": [
    "faces = np.load('smiley face.npy')\n",
    "faces_subset = faces[0:400]"
   ]
  },
  {
   "cell_type": "markdown",
   "metadata": {},
   "source": [
    "t-Distributed stochastic neighbour(t-SNE) is a technique to reduce higher dimentional data into a lower dimentional dataset.\n",
    "The dataset has 28x28 = 784 dimensions which is being reduced to 2D "
   ]
  },
  {
   "cell_type": "code",
   "execution_count": 5,
   "metadata": {
    "scrolled": true
   },
   "outputs": [
    {
     "name": "stdout",
     "output_type": "stream",
     "text": [
      "[t-SNE] Computing 121 nearest neighbors...\n",
      "[t-SNE] Indexed 400 samples in 0.006s...\n",
      "[t-SNE] Computed neighbors for 400 samples in 0.194s...\n",
      "[t-SNE] Computed conditional probabilities for sample 400 / 400\n",
      "[t-SNE] Mean sigma: 747.429135\n",
      "[t-SNE] KL divergence after 250 iterations with early exaggeration: 70.620079\n",
      "[t-SNE] KL divergence after 1000 iterations: 0.857696\n",
      "t-SNE completed! 2.21873188019 seconds\n"
     ]
    }
   ],
   "source": [
    "#t-SNE\n",
    "time_start = time.time()\n",
    "tsne = TSNE(n_components=2, verbose=1, perplexity=40)\n",
    "faces_tsne = tsne.fit_transform(faces_subset)\n",
    "print 't-SNE completed! {} seconds'.format(time.time()-time_start)"
   ]
  },
  {
   "cell_type": "code",
   "execution_count": 6,
   "metadata": {},
   "outputs": [],
   "source": [
    "# for viewing all the images used \n",
    "def view_all_images(faces):\n",
    "    rows = 28\n",
    "    cols = 28\n",
    "    index = 0\n",
    "    dimensions = int(np.sqrt(faces_subset.shape[0]))\n",
    "    face_image = np.ones((cols * dimensions, rows * dimensions))\n",
    "    for drow in range(dimensions):\n",
    "        for dcol in range(dimensions):  \n",
    "            face_image [drow * cols: (drow + 1) * cols, dcol * rows: (dcol + 1) * rows\n",
    "            ] = faces_subset[index].reshape(28, 28)\n",
    "            index += 1   \n",
    "    plt.imshow(face_image, cmap='gray')\n",
    "    plt.show()"
   ]
  },
  {
   "cell_type": "markdown",
   "metadata": {},
   "source": [
    "This function is used to visualise the t-SNE tranformed data . "
   ]
  },
  {
   "cell_type": "code",
   "execution_count": 7,
   "metadata": {},
   "outputs": [],
   "source": [
    "#scatter plot for visualisation\n",
    "def scatterPlot_images(tsne2d, faces, figsize=(28,28)):\n",
    "    fig, axis = plt.subplots(figsize=figsize)\n",
    "    artists = []\n",
    "    for xy, i in zip(tsne2d, faces):\n",
    "        x, y = xy\n",
    "        img = OffsetImage(i, zoom=1, cmap='gray')\n",
    "        box = AnnotationBbox(img, (x, y), xycoords='data', frameon=False)\n",
    "        artists.append(axis.add_artist(box))\n",
    "    axis.update_datalim(tsne2d)\n",
    "    axis.autoscale()\n",
    "    plt.show()"
   ]
  },
  {
   "cell_type": "code",
   "execution_count": null,
   "metadata": {},
   "outputs": [],
   "source": [
    "scatterPlot_images(faces_tsne, faces = [np.reshape(i, (28,28)) for i in faces])"
   ]
  },
  {
   "cell_type": "code",
   "execution_count": null,
   "metadata": {},
   "outputs": [],
   "source": [
    "view_all_images(faces_subset)"
   ]
  },
  {
   "cell_type": "code",
   "execution_count": null,
   "metadata": {},
   "outputs": [],
   "source": []
  }
 ],
 "metadata": {
  "kernelspec": {
   "display_name": "Python 2",
   "language": "python",
   "name": "python2"
  },
  "language_info": {
   "codemirror_mode": {
    "name": "ipython",
    "version": 2
   },
   "file_extension": ".py",
   "mimetype": "text/x-python",
   "name": "python",
   "nbconvert_exporter": "python",
   "pygments_lexer": "ipython2",
   "version": "2.7.10"
  }
 },
 "nbformat": 4,
 "nbformat_minor": 2
}
